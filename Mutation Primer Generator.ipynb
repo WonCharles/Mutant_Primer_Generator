{
 "cells": [
  {
   "cell_type": "code",
   "execution_count": 149,
   "metadata": {},
   "outputs": [],
   "source": [
    "from Bio.Seq import MutableSeq\n",
    "import Bio.Data.CodonTable"
   ]
  },
  {
   "cell_type": "code",
   "execution_count": 152,
   "metadata": {},
   "outputs": [
    {
     "name": "stdout",
     "output_type": "stream",
     "text": [
      "Type a DNA sequence of your mutation target: \n",
      "ATGAGACCCCAGATCCTGCTGCTCCTGGCCCTGCTGACCCTAGGCCTGGCTGACTACAAAGACGATGACGACAAATCTAGCATGAATGGCACAGAAGGCCCTAACTTCTACGTGCCCTTCTCCAATGCGACGGGTGTGGTACGCGAATTCACGCGTATGAGGGAAAATAACCAGTCCTCTACACTGGAATTCATCCTCCTGGGAGTTACTGGTCAGCAGGAACAGGAAGATTTCTTCTACATCCTCTTCCTGTTCATTTACCCCATCACATTGATTGGAAACCTGCTCATCGTCCTAGCCATTTGCTCTGATGTTCGCCTTCACAACCCCATGTATTTTCTCCTTGCCAACCTCTCCTTGGTTGACATCTTCTTCTCATCGGTAACCATCCCTAAGATGCTGGCCAACCATCTCTTGGGCAGCAAATCCATCTCTTTTGGGGGATGCCTAACGCAGATGTATTTCATGATAGCCTTGGGTAACACAGACAGCTATATTTTGGCTGCAATGGCATATGATCGAGCTGTGGCCATCAGCCGCCCACTTCACTACACAACAATTATGAGTCCACGGTCTTGTATCTGGCTTATTGCTGGGTCTTGGGTGATTGGAAATGCCAATGCCCTCCCCCACACTCTGCTCACAGCTAGTCTGTCCTTCTGTGGCAACCAGGAAGTGGCCAACTTCTACTGTGACATTACCCCCTTGCTGAAGTTATCCTGTTCTGACATCCACTTTCATGTGAAGATGATGTACCTAGGGGTTGGCATTTTCTCTGTGCCATTACTATGCATCATTGTCTCCTATATTCGAGTCTTCTCCACAGTCTTCCAGGTTCCTTCCACCAAGGGCGTGCTCAAGGCCTTCTCCACCTGTGGTTCCCACCTCACGGTTGTCTCTTTGTATTATGGTACGGTCATGGGCACGTATTTCCGCCCTTTGACCAATTATAGCCTAAAAGACGCAGTGATCACTGTAATGTACACGGCAGTGACCCCAATGTTAAATCCTTTCATCTACAGTCTGAGAAATCGGGACATGAAGGCTGCCCTGCGGAAACTCTTCAACAAGAGAATCTCCTCGTAA\n",
      "Translate result of the input:\n",
      "MRPQILLLLALLTLGLADYKDDDDKSSMNGTEGPNFYVPFSNATGVVREFTRMRENNQSSTLEFILLGVTGQQEQEDFFYILFLFIYPITLIGNLLIVLAICSDVRLHNPMYFLLANLSLVDIFFSSVTIPKMLANHLLGSKSISFGGCLTQMYFMIALGNTDSYILAAMAYDRAVAISRPLHYTTIMSPRSCIWLIAGSWVIGNANALPHTLLTASLSFCGNQEVANFYCDITPLLKLSCSDIHFHVKMMYLGVGIFSVPLLCIIVSYIRVFSTVFQVPSTKGVLKAFSTCGSHLTVVSLYYGTVMGTYFRPLTNYSLKDAVITVMYTAVTPMLNPFIYSLRNRDMKAALRKLFNKRISS*\n",
      "(Input 서열의 Amino Acid 잔기 기준) 단백질 1번 잔기의 number: \n",
      "53\n",
      "Starting Residue: VREFT <M> RENNQ\n",
      "몇 번째 아미노산을 바꿀 것인지?: 38\n",
      "Target Residue: LFIYP <T> LIGNL\n",
      "==================================================\n",
      "Your target Codon is ACA\n",
      "Table 1 Standard, SGC0\n",
      "\n",
      "  |  T      |  C      |  A      |  G      |\n",
      "--+---------+---------+---------+---------+--\n",
      "T | TTT F   | TCT S   | TAT Y   | TGT C   | T\n",
      "T | TTC F   | TCC S   | TAC Y   | TGC C   | C\n",
      "T | TTA L   | TCA S   | TAA Stop| TGA Stop| A\n",
      "T | TTG L(s)| TCG S   | TAG Stop| TGG W   | G\n",
      "--+---------+---------+---------+---------+--\n",
      "C | CTT L   | CCT P   | CAT H   | CGT R   | T\n",
      "C | CTC L   | CCC P   | CAC H   | CGC R   | C\n",
      "C | CTA L   | CCA P   | CAA Q   | CGA R   | A\n",
      "C | CTG L(s)| CCG P   | CAG Q   | CGG R   | G\n",
      "--+---------+---------+---------+---------+--\n",
      "A | ATT I   | ACT T   | AAT N   | AGT S   | T\n",
      "A | ATC I   | ACC T   | AAC N   | AGC S   | C\n",
      "A | ATA I   | ACA T   | AAA K   | AGA R   | A\n",
      "A | ATG M(s)| ACG T   | AAG K   | AGG R   | G\n",
      "--+---------+---------+---------+---------+--\n",
      "G | GTT V   | GCT A   | GAT D   | GGT G   | T\n",
      "G | GTC V   | GCC A   | GAC D   | GGC G   | C\n",
      "G | GTA V   | GCA A   | GAA E   | GGA G   | A\n",
      "G | GTG V   | GCG A   | GAG E   | GGG G   | G\n",
      "--+---------+---------+---------+---------+--\n",
      "Change Codon into: GCA\n",
      "====================RESULTS====================\n",
      "Forward Primer Sequence: \n",
      "5'- TACCCCATCGCATTGATTGGAAACCTGCTCATCGTCCTAGCCATT -3'\n",
      "Reverse Primer Sequence: \n",
      "5'- CCAATCAATGCGATGGGGTAAATGAACAGGAAGAGGATGTAGAAG -3'\n"
     ]
    }
   ],
   "source": [
    "target_seq = input(\"Type a DNA sequence of your mutation target: \\n\")\n",
    "target_dna =  MutableSeq(target_seq)\n",
    "target_aa = target_dna.translate()\n",
    "print(\"Translate result of the input:\")\n",
    "print(target_aa)\n",
    "\n",
    "#(sequence 정보에 tag가 들어있는 경우)단백질 서열 기준 몇 번째 잔기부터 시작인지?\n",
    "prot_start = int(input(\"(Input 서열의 Amino Acid 잔기 기준) 단백질 1번 잔기의 number: \\n\"))\n",
    "print(\"Starting Residue: \" + target_aa[prot_start-7:prot_start-2] + \" <\" + target_aa[prot_start - 1] + \"> \" + target_aa[prot_start:prot_start+5])\n",
    "\n",
    "#Start Codon 기준으로 치환할 아미노산이 몇 번째인지?\n",
    "target_aa_num = int(input(\"몇 번째 아미노산을 바꿀 것인지?: \"))\n",
    "total_aa_num = prot_start + target_aa_num - 1\n",
    "print(\"Target Residue: \" + target_aa[total_aa_num-7:total_aa_num-2] + \" <\" + target_aa[total_aa_num-1] + \"> \" + target_aa[total_aa_num:total_aa_num+5])\n",
    "print(\"==================================================\")\n",
    "\n",
    "target_codon = target_dna[total_aa_num*3-3:total_aa_num*3]\n",
    "print(\"Your target Codon is \" + target_codon)\n",
    "print(Bio.Data.CodonTable.standard_dna_table)\n",
    "mt_codon = input(\"Change Codon into: \")\n",
    "print(\"\")\n",
    "\n",
    "print(\"====================RESULTS====================\")\n",
    "target_dna[total_aa_num*3-3:total_aa_num*3] = mt_codon\n",
    "primer_f = target_dna[total_aa_num*3-12:total_aa_num*3+33]\n",
    "print(\"Forward Primer Sequence: \")\n",
    "print(\"5'- \" + primer_f + \" -3'\")\n",
    "\n",
    "primer_r = target_dna[total_aa_num*3-37:total_aa_num*3+8]\n",
    "primer_r.reverse_complement()\n",
    "print(\"Reverse Primer Sequence: \")\n",
    "print(\"5'- \" + primer_r + \" -3'\")"
   ]
  },
  {
   "cell_type": "markdown",
   "metadata": {},
   "source": [
    "# 0. Initial Settings"
   ]
  },
  {
   "cell_type": "code",
   "execution_count": 147,
   "metadata": {},
   "outputs": [],
   "source": [
    "from Bio.Seq import MutableSeq\n",
    "import Bio.Data.CodonTable"
   ]
  },
  {
   "cell_type": "markdown",
   "metadata": {},
   "source": [
    "1-1. 직접 sequence 정보 입력"
   ]
  },
  {
   "cell_type": "code",
   "execution_count": 139,
   "metadata": {
    "scrolled": false
   },
   "outputs": [
    {
     "name": "stdout",
     "output_type": "stream",
     "text": [
      "Type a DNA sequence of your mutation target: \n",
      "ATGAGACCCCAGATCCTGCTGCTCCTGGCCCTGCTGACCCTAGGCCTGGCTGACTACAAAGACGATGACGACAAATCTAGCATGAATGGCACAGAAGGCCCTAACTTCTACGTGCCCTTCTCCAATGCGACGGGTGTGGTACGCGAATTCACGCGTATGAGGGAAAATAACCAGTCCTCTACACTGGAATTCATCCTCCTGGGAGTTACTGGTCAGCAGGAACAGGAAGATTTCTTCTACATCCTCTTCCTGTTCATTTACCCCATCACATTGATTGGAAACCTGCTCATCGTCCTAGCCATTTGCTCTGATGTTCGCCTTCACAACCCCATGTATTTTCTCCTTGCCAACCTCTCCTTGGTTGACATCTTCTTCTCATCGGTAACCATCCCTAAGATGCTGGCCAACCATCTCTTGGGCAGCAAATCCATCTCTTTTGGGGGATGCCTAACGCAGATGTATTTCATGATAGCCTTGGGTAACACAGACAGCTATATTTTGGCTGCAATGGCATATGATCGAGCTGTGGCCATCAGCCGCCCACTTCACTACACAACAATTATGAGTCCACGGTCTTGTATCTGGCTTATTGCTGGGTCTTGGGTGATTGGAAATGCCAATGCCCTCCCCCACACTCTGCTCACAGCTAGTCTGTCCTTCTGTGGCAACCAGGAAGTGGCCAACTTCTACTGTGACATTACCCCCTTGCTGAAGTTATCCTGTTCTGACATCCACTTTCATGTGAAGATGATGTACCTAGGGGTTGGCATTTTCTCTGTGCCATTACTATGCATCATTGTCTCCTATATTCGAGTCTTCTCCACAGTCTTCCAGGTTCCTTCCACCAAGGGCGTGCTCAAGGCCTTCTCCACCTGTGGTTCCCACCTCACGGTTGTCTCTTTGTATTATGGTACGGTCATGGGCACGTATTTCCGCCCTTTGACCAATTATAGCCTAAAAGACGCAGTGATCACTGTAATGTACACGGCAGTGACCCCAATGTTAAATCCTTTCATCTACAGTCTGAGAAATCGGGACATGAAGGCTGCCCTGCGGAAACTCTTCAACAAGAGAATCTCCTCGTAA\n"
     ]
    }
   ],
   "source": [
    "target_seq = input(\"Type a DNA sequence of your mutation target: \\n\")"
   ]
  },
  {
   "cell_type": "code",
   "execution_count": 140,
   "metadata": {
    "scrolled": true
   },
   "outputs": [
    {
     "name": "stdout",
     "output_type": "stream",
     "text": [
      "Translate result of the input:\n",
      "MRPQILLLLALLTLGLADYKDDDDKSSMNGTEGPNFYVPFSNATGVVREFTRMRENNQSSTLEFILLGVTGQQEQEDFFYILFLFIYPITLIGNLLIVLAICSDVRLHNPMYFLLANLSLVDIFFSSVTIPKMLANHLLGSKSISFGGCLTQMYFMIALGNTDSYILAAMAYDRAVAISRPLHYTTIMSPRSCIWLIAGSWVIGNANALPHTLLTASLSFCGNQEVANFYCDITPLLKLSCSDIHFHVKMMYLGVGIFSVPLLCIIVSYIRVFSTVFQVPSTKGVLKAFSTCGSHLTVVSLYYGTVMGTYFRPLTNYSLKDAVITVMYTAVTPMLNPFIYSLRNRDMKAALRKLFNKRISS*\n"
     ]
    }
   ],
   "source": [
    "target_dna =  MutableSeq(target_seq)\n",
    "target_aa = target_dna.translate()\n",
    "print(\"Translate result of the input:\")\n",
    "print(target_aa)"
   ]
  },
  {
   "cell_type": "markdown",
   "metadata": {},
   "source": [
    "1-2. fasta format의 file을 입력"
   ]
  },
  {
   "cell_type": "code",
   "execution_count": null,
   "metadata": {},
   "outputs": [],
   "source": [
    "target_fasta = #fasta file import하기"
   ]
  },
  {
   "cell_type": "code",
   "execution_count": null,
   "metadata": {},
   "outputs": [],
   "source": [
    "#입력받은 fasta file의 파일 정보를 출력하는 부분"
   ]
  },
  {
   "cell_type": "code",
   "execution_count": null,
   "metadata": {},
   "outputs": [],
   "source": [
    "#출력한 fasta file 중에 자신이 사용할 부분을 선택하도록 input 받기\n",
    "#만약 입력받은 fasta file이 하나라면 그 seqeuence를 target_seq로 받기"
   ]
  },
  {
   "cell_type": "markdown",
   "metadata": {},
   "source": [
    "2-1. 입력한 서열 확인, 아미노산 서열 출력부"
   ]
  },
  {
   "cell_type": "code",
   "execution_count": 118,
   "metadata": {
    "scrolled": true
   },
   "outputs": [],
   "source": [
    "if len(target_seq)%3 != 0:\n",
    "    print(\"Warning: DNA sequence 갯수가 3의 배수가 아닙니다!\")"
   ]
  },
  {
   "cell_type": "markdown",
   "metadata": {},
   "source": [
    "3-1. 바꿀 잔기 선택"
   ]
  },
  {
   "cell_type": "code",
   "execution_count": 146,
   "metadata": {},
   "outputs": [
    {
     "name": "stdout",
     "output_type": "stream",
     "text": [
      "(Input 서열의 Amino Acid 잔기 기준) 단백질 1번 잔기의 number: \n",
      "53\n"
     ]
    }
   ],
   "source": [
    "#(sequence 정보에 tag가 들어있는 경우)단백질 서열 기준 몇 번째 잔기부터 시작인지?\n",
    "prot_start = int(input(\"(Input 서열의 Amino Acid 잔기 기준) 단백질 1번 잔기의 number: \\n\"))"
   ]
  },
  {
   "cell_type": "code",
   "execution_count": 144,
   "metadata": {},
   "outputs": [
    {
     "name": "stdout",
     "output_type": "stream",
     "text": [
      "Starting Residue: VREFT <M> RENNQ\n"
     ]
    }
   ],
   "source": [
    "print(\"Starting Residue: \" + target_aa[prot_start-7:prot_start-2] + \" <\" + target_aa[prot_start - 1] + \"> \" + target_aa[prot_start:prot_start+5])"
   ]
  },
  {
   "cell_type": "code",
   "execution_count": 121,
   "metadata": {
    "scrolled": true
   },
   "outputs": [
    {
     "name": "stdout",
     "output_type": "stream",
     "text": [
      "몇 번째 아미노산을 바꿀 것인지?: 38\n"
     ]
    }
   ],
   "source": [
    "#Start Codon 기준으로 치환할 아미노산이 몇 번째인지?\n",
    "target_aa_num = int(input(\"몇 번째 아미노산을 바꿀 것인지?: \"))"
   ]
  },
  {
   "cell_type": "code",
   "execution_count": 145,
   "metadata": {},
   "outputs": [
    {
     "name": "stdout",
     "output_type": "stream",
     "text": [
      "Target Residue: LFIYP <T> LIGNL\n"
     ]
    }
   ],
   "source": [
    "total_aa_num = prot_start + target_aa_num - 1\n",
    "print(\"Target Residue: \" + target_aa[total_aa_num-7:total_aa_num-2] + \" <\" + target_aa[total_aa_num-1] + \"> \" + target_aa[total_aa_num:total_aa_num+5])"
   ]
  },
  {
   "cell_type": "markdown",
   "metadata": {},
   "source": [
    "4-1. 잔기를 어떤 서열로 바꿀지 적기"
   ]
  },
  {
   "cell_type": "code",
   "execution_count": 123,
   "metadata": {},
   "outputs": [],
   "source": [
    "target_codon = target_dna[total_aa_num*3-3:total_aa_num*3]"
   ]
  },
  {
   "cell_type": "code",
   "execution_count": 124,
   "metadata": {},
   "outputs": [
    {
     "name": "stdout",
     "output_type": "stream",
     "text": [
      "Your target Codon is ACA\n"
     ]
    }
   ],
   "source": [
    "print(\"Your target Codon is \" + target_codon)"
   ]
  },
  {
   "cell_type": "code",
   "execution_count": 148,
   "metadata": {},
   "outputs": [
    {
     "name": "stdout",
     "output_type": "stream",
     "text": [
      "Table 1 Standard, SGC0\n",
      "\n",
      "  |  T      |  C      |  A      |  G      |\n",
      "--+---------+---------+---------+---------+--\n",
      "T | TTT F   | TCT S   | TAT Y   | TGT C   | T\n",
      "T | TTC F   | TCC S   | TAC Y   | TGC C   | C\n",
      "T | TTA L   | TCA S   | TAA Stop| TGA Stop| A\n",
      "T | TTG L(s)| TCG S   | TAG Stop| TGG W   | G\n",
      "--+---------+---------+---------+---------+--\n",
      "C | CTT L   | CCT P   | CAT H   | CGT R   | T\n",
      "C | CTC L   | CCC P   | CAC H   | CGC R   | C\n",
      "C | CTA L   | CCA P   | CAA Q   | CGA R   | A\n",
      "C | CTG L(s)| CCG P   | CAG Q   | CGG R   | G\n",
      "--+---------+---------+---------+---------+--\n",
      "A | ATT I   | ACT T   | AAT N   | AGT S   | T\n",
      "A | ATC I   | ACC T   | AAC N   | AGC S   | C\n",
      "A | ATA I   | ACA T   | AAA K   | AGA R   | A\n",
      "A | ATG M(s)| ACG T   | AAG K   | AGG R   | G\n",
      "--+---------+---------+---------+---------+--\n",
      "G | GTT V   | GCT A   | GAT D   | GGT G   | T\n",
      "G | GTC V   | GCC A   | GAC D   | GGC G   | C\n",
      "G | GTA V   | GCA A   | GAA E   | GGA G   | A\n",
      "G | GTG V   | GCG A   | GAG E   | GGG G   | G\n",
      "--+---------+---------+---------+---------+--\n"
     ]
    }
   ],
   "source": [
    "print(Bio.Data.CodonTable.standard_dna_table)"
   ]
  },
  {
   "cell_type": "code",
   "execution_count": 125,
   "metadata": {},
   "outputs": [
    {
     "name": "stdout",
     "output_type": "stream",
     "text": [
      "Change Codon into: GCT\n"
     ]
    }
   ],
   "source": [
    "mt_codon = input(\"Change Codon into: \")"
   ]
  },
  {
   "cell_type": "markdown",
   "metadata": {},
   "source": [
    "5-1. Output"
   ]
  },
  {
   "cell_type": "code",
   "execution_count": 126,
   "metadata": {},
   "outputs": [],
   "source": [
    "target_dna[total_aa_num*3-3:total_aa_num*3] = mt_codon\n",
    "\n",
    "primer_f = target_dna[total_aa_num*3-12:total_aa_num*3+33]\n",
    "\n",
    "print(\"Forward Primer Sequence: \")\n",
    "print(\"5'- \" + primer_f + \" -3'\")"
   ]
  },
  {
   "cell_type": "code",
   "execution_count": 129,
   "metadata": {},
   "outputs": [],
   "source": [
    "primer_r = target_dna[total_aa_num*3-37:total_aa_num*3+8]\n",
    "\n",
    "primer_r.reverse_complement()\n",
    "\n",
    "print(\"Reverse Primer Sequence: \")\n",
    "print(\"5'- \" + primer_r + \" -3'\")"
   ]
  }
 ],
 "metadata": {
  "kernelspec": {
   "display_name": "Python 3",
   "language": "python",
   "name": "python3"
  },
  "language_info": {
   "codemirror_mode": {
    "name": "ipython",
    "version": 3
   },
   "file_extension": ".py",
   "mimetype": "text/x-python",
   "name": "python",
   "nbconvert_exporter": "python",
   "pygments_lexer": "ipython3",
   "version": "3.8.5"
  }
 },
 "nbformat": 4,
 "nbformat_minor": 4
}
